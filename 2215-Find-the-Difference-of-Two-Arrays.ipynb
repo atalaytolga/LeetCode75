{
 "cells": [
  {
   "cell_type": "code",
   "execution_count": null,
   "metadata": {},
   "outputs": [],
   "source": [
    "class Solution:\n",
    "    def findDifference(self, nums1: List[int], nums2: List[int]) -> List[List[int]]:\n",
    "\n",
    "        set1, set2 = set(nums1), set(nums2)\n",
    "        res = [set() for i in range(2)]\n",
    "\n",
    "        for n in nums1:\n",
    "            if n not in set2:\n",
    "                res[0].add(n)\n",
    "\n",
    "        for n in nums2:\n",
    "            if n not in set1:\n",
    "                res[1].add(n)\n",
    "        \n",
    "        return res"
   ]
  }
 ],
 "metadata": {
  "language_info": {
   "name": "python"
  }
 },
 "nbformat": 4,
 "nbformat_minor": 2
}
