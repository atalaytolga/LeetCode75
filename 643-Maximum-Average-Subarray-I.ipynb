{
 "cells": [
  {
   "cell_type": "code",
   "execution_count": null,
   "metadata": {},
   "outputs": [],
   "source": [
    "class Solution:\n",
    "    def findMaxAverage(self, nums: List[int], k: int) -> float:\n",
    "        curSum = sum(nums[:k])\n",
    "        maxSum = curSum\n",
    "        for i in range(k, len(nums)):\n",
    "            curSum = curSum + nums[i] - nums[i - k]\n",
    "            maxSum = max(maxSum, curSum)\n",
    "        \n",
    "        return maxSum / k"
   ]
  }
 ],
 "metadata": {
  "language_info": {
   "name": "python"
  }
 },
 "nbformat": 4,
 "nbformat_minor": 2
}
