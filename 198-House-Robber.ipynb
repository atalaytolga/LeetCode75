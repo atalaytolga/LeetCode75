{
 "cells": [
  {
   "cell_type": "code",
   "execution_count": null,
   "metadata": {},
   "outputs": [],
   "source": [
    "class Solution:\n",
    "    def rob(self, nums: List[int]) -> int:\n",
    "        \n",
    "        if len(nums) == 1:\n",
    "            return nums[0]\n",
    "\n",
    "        dp = [0] * len(nums)\n",
    "        dp[0], dp[1] = nums[0], max(nums[0], nums[1])\n",
    "\n",
    "        for i in range(2, len(nums)):\n",
    "            dp[i] = max(dp[i-2] + nums[i], dp[i-1])\n",
    "        \n",
    "        return dp[-1]\n"
   ]
  }
 ],
 "metadata": {
  "language_info": {
   "name": "python"
  }
 },
 "nbformat": 4,
 "nbformat_minor": 2
}
