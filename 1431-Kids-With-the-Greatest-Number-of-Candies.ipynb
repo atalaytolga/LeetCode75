{
 "cells": [
  {
   "cell_type": "code",
   "execution_count": null,
   "metadata": {},
   "outputs": [],
   "source": [
    "class Solution:\n",
    "    def kidsWithCandies(self, candies: List[int], extraCandies: int) -> List[bool]:\n",
    "\n",
    "        reqCandies = max(candies) - extraCandies\n",
    "        res = []\n",
    "\n",
    "        for i in range(len(candies)):\n",
    "            res.append(candies[i] >= reqCandies)\n",
    "\n",
    "        return res"
   ]
  }
 ],
 "metadata": {
  "language_info": {
   "name": "python"
  }
 },
 "nbformat": 4,
 "nbformat_minor": 2
}
