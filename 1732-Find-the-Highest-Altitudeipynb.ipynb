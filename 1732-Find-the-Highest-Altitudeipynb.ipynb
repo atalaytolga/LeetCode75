{
 "cells": [
  {
   "cell_type": "code",
   "execution_count": null,
   "metadata": {},
   "outputs": [],
   "source": [
    "class Solution:\n",
    "    def largestAltitude(self, gain: List[int]) -> int:\n",
    "        maxAlt = 0\n",
    "        curAlt = 0\n",
    "        for n in gain:\n",
    "            curAlt += n\n",
    "            maxAlt = max(maxAlt, curAlt)\n",
    "        return maxAlt"
   ]
  }
 ],
 "metadata": {
  "language_info": {
   "name": "python"
  }
 },
 "nbformat": 4,
 "nbformat_minor": 2
}
