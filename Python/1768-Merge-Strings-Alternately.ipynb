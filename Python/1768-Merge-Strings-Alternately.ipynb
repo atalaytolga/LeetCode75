{
 "cells": [
  {
   "cell_type": "code",
   "execution_count": null,
   "metadata": {},
   "outputs": [],
   "source": [
    "class Solution:\n",
    "    def mergeAlternately(self, word1: str, word2: str) -> str:\n",
    "\n",
    "        res = ''\n",
    "        pointer1, pointer2 = 0, 0\n",
    "        while pointer1 < len(word1) and pointer2 < len(word2):\n",
    "            res += word1[pointer1] + word2[pointer2] \n",
    "            pointer1 += 1\n",
    "            pointer2 += 1\n",
    "\n",
    "        if len(word1) > pointer1:\n",
    "            res += word1[pointer1:]\n",
    "        if len(word2) > pointer2:\n",
    "            res += word2[pointer2:]\n",
    "        return res"
   ]
  }
 ],
 "metadata": {
  "language_info": {
   "name": "python"
  }
 },
 "nbformat": 4,
 "nbformat_minor": 2
}
