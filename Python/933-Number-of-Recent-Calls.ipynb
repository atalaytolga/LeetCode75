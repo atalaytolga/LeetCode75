{
 "cells": [
  {
   "cell_type": "code",
   "execution_count": null,
   "metadata": {},
   "outputs": [],
   "source": [
    "class RecentCounter:\n",
    "    def __init__(self):\n",
    "        self.counter = []\n",
    "\n",
    "    def ping(self, t: int) -> int:\n",
    "        self.counter.append(t)\n",
    "        while self.counter[-1] - self.counter[0] > 3000:\n",
    "            self.counter.pop(0)\n",
    "        return len(self.counter)"
   ]
  }
 ],
 "metadata": {
  "language_info": {
   "name": "python"
  }
 },
 "nbformat": 4,
 "nbformat_minor": 2
}
