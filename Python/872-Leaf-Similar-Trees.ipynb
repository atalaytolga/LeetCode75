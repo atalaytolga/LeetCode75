{
 "cells": [
  {
   "cell_type": "code",
   "execution_count": null,
   "metadata": {},
   "outputs": [],
   "source": [
    "# Definition for a binary tree node.\n",
    "# class TreeNode:\n",
    "#     def __init__(self, val=0, left=None, right=None):\n",
    "#         self.val = val\n",
    "#         self.left = left\n",
    "#         self.right = right\n",
    "class Solution:\n",
    "    def leafSimilar(self, root1: Optional[TreeNode], root2: Optional[TreeNode]) -> bool:\n",
    "        def getLeaves(root):\n",
    "            leaves = []\n",
    "            queue = [root]\n",
    "            while queue:\n",
    "                curNode = queue.pop()\n",
    "                if not curNode.left and not curNode.right:\n",
    "                    leaves.append(curNode.val)\n",
    "                else:\n",
    "                    if curNode.right:\n",
    "                        queue.append(curNode.right)\n",
    "                    if curNode.left:\n",
    "                        queue.append(curNode.left)\n",
    "            return leaves\n",
    "        return getLeaves(root1) == getLeaves(root2)\n"
   ]
  }
 ],
 "metadata": {
  "language_info": {
   "name": "python"
  }
 },
 "nbformat": 4,
 "nbformat_minor": 2
}
