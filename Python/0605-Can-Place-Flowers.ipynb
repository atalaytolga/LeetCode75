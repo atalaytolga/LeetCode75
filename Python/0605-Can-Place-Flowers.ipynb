{
 "cells": [
  {
   "cell_type": "code",
   "execution_count": null,
   "metadata": {},
   "outputs": [],
   "source": [
    "class Solution:\n",
    "    def canPlaceFlowers(self, flowerbed: List[int], n: int) -> bool:\n",
    "        flowerbed.insert(0,0)\n",
    "        flowerbed.append(0)\n",
    "        flowerbed.append(1)\n",
    "        numFlowers = 0\n",
    "        curRow = 0\n",
    "        for i in range(len(flowerbed)):\n",
    "            if flowerbed[i] == 1:\n",
    "                numFlowers += max(((curRow + 1) // 2) - 1, 0)\n",
    "                curRow = 0\n",
    "            elif flowerbed[i] == 0:\n",
    "                curRow += 1\n",
    "            if numFlowers >= n:\n",
    "                return True\n",
    "\n",
    "        return False"
   ]
  }
 ],
 "metadata": {
  "language_info": {
   "name": "python"
  }
 },
 "nbformat": 4,
 "nbformat_minor": 2
}
