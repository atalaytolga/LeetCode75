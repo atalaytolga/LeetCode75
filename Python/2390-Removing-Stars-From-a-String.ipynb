{
 "cells": [
  {
   "cell_type": "code",
   "execution_count": null,
   "metadata": {},
   "outputs": [],
   "source": [
    "class Solution:\n",
    "    def removeStars(self, s: str) -> str:\n",
    "        stack = []\n",
    "        for n in s:\n",
    "            if n == '*':\n",
    "                stack.pop()\n",
    "            else:\n",
    "                stack.append(n)\n",
    "        return ''.join(stack)\n",
    "                "
   ]
  }
 ],
 "metadata": {
  "language_info": {
   "name": "python"
  }
 },
 "nbformat": 4,
 "nbformat_minor": 2
}
