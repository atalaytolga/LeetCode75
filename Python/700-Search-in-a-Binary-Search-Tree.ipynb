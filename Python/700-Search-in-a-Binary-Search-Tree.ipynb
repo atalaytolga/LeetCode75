{
 "cells": [
  {
   "cell_type": "code",
   "execution_count": null,
   "metadata": {},
   "outputs": [],
   "source": [
    "# Definition for a binary tree node.\n",
    "# class TreeNode:\n",
    "#     def __init__(self, val=0, left=None, right=None):\n",
    "#         self.val = val\n",
    "#         self.left = left\n",
    "#         self.right = right\n",
    "class Solution:\n",
    "    def searchBST(self, root: Optional[TreeNode], val: int) -> Optional[TreeNode]:\n",
    "        curNode = root\n",
    "        while curNode:\n",
    "            if curNode.val == val:\n",
    "                return  curNode\n",
    "            elif val < curNode.val:\n",
    "                curNode = curNode.left\n",
    "            else:\n",
    "                curNode = curNode.right\n",
    "        return None"
   ]
  }
 ],
 "metadata": {
  "language_info": {
   "name": "python"
  }
 },
 "nbformat": 4,
 "nbformat_minor": 2
}
