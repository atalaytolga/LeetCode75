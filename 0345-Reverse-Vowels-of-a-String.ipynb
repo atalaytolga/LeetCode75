{
 "cells": [
  {
   "cell_type": "code",
   "execution_count": null,
   "metadata": {},
   "outputs": [],
   "source": [
    "class Solution:\n",
    "    def reverseVowels(self, s: str) -> str:\n",
    "        leftPointer, rightPointer = 0, len(s) - 1\n",
    "        vowels= 'aeiouAEIOU'\n",
    "        s = list(s)\n",
    "        while leftPointer < rightPointer:\n",
    "            if s[leftPointer] in vowels and s[rightPointer] in vowels:\n",
    "                s[leftPointer], s[rightPointer] = s[rightPointer], s[leftPointer]\n",
    "                leftPointer += 1\n",
    "                rightPointer -= 1\n",
    "            elif s[leftPointer] not in vowels:\n",
    "                leftPointer += 1\n",
    "            elif s[rightPointer] not in vowels:\n",
    "                rightPointer -= 1\n",
    "        return ''.join(s)"
   ]
  }
 ],
 "metadata": {
  "language_info": {
   "name": "python"
  }
 },
 "nbformat": 4,
 "nbformat_minor": 2
}
