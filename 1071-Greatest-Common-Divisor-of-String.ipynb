{
 "cells": [
  {
   "cell_type": "code",
   "execution_count": null,
   "metadata": {},
   "outputs": [],
   "source": [
    "class Solution:\n",
    "    def gcdOfStrings(self, str1: str, str2: str) -> str:\n",
    "\n",
    "        minLength = math.gcd(len(str1), len(str2))\n",
    "\n",
    "        curStr = ''\n",
    "\n",
    "        for i in range(minLength):\n",
    "            if str1[i] == str2[i]:\n",
    "                curStr += str1[i]\n",
    "            else:\n",
    "                break\n",
    "                \n",
    "        if curStr * (len(str1) // minLength) == str1 and curStr * (len(str2) // minLength) == str2:\n",
    "            return curStr\n",
    "        else:\n",
    "            return \"\""
   ]
  }
 ],
 "metadata": {
  "language_info": {
   "name": "python"
  }
 },
 "nbformat": 4,
 "nbformat_minor": 2
}
