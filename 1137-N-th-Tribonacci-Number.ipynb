{
 "cells": [
  {
   "cell_type": "code",
   "execution_count": null,
   "metadata": {},
   "outputs": [],
   "source": [
    "class Solution:\n",
    "    def tribonacci(self, n: int) -> int:\n",
    "        res = [0, 1, 1]\n",
    "        if n < 3:\n",
    "            return res[n]\n",
    "        \n",
    "        for i in range(n - 2):\n",
    "            res = res[1:] + [sum(res)]\n",
    "        return res[-1]"
   ]
  }
 ],
 "metadata": {
  "language_info": {
   "name": "python"
  }
 },
 "nbformat": 4,
 "nbformat_minor": 2
}
