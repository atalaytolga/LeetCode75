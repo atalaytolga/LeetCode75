{
 "cells": [
  {
   "cell_type": "code",
   "execution_count": null,
   "metadata": {},
   "outputs": [],
   "source": [
    "class Solution:\n",
    "    def uniqueOccurrences(self, arr: List[int]) -> bool:\n",
    "        count = Counter()\n",
    "        for n in arr:\n",
    "            count[n] += 1\n",
    "\n",
    "        occuranceSet = set()\n",
    "\n",
    "        for occurance in count.values():\n",
    "            if occurance in occuranceSet:\n",
    "                return False\n",
    "            else:\n",
    "                occuranceSet.add(occurance)\n",
    "        return True"
   ]
  }
 ],
 "metadata": {
  "language_info": {
   "name": "python"
  }
 },
 "nbformat": 4,
 "nbformat_minor": 2
}
