{
 "cells": [
  {
   "cell_type": "code",
   "execution_count": null,
   "metadata": {},
   "outputs": [],
   "source": [
    "class Solution:\n",
    "    def findKthLargest(self, nums: List[int], k: int) -> int:\n",
    "        queue = []\n",
    "        heapq.heapify(queue)\n",
    "\n",
    "        for n in nums:\n",
    "            heapq.heappush(queue, n)\n",
    "\n",
    "            if len(queue) > k:\n",
    "                heapq.heappop(queue)\n",
    "        \n",
    "\n",
    "        return heapq.heappop(queue)"
   ]
  }
 ],
 "metadata": {
  "language_info": {
   "name": "python"
  }
 },
 "nbformat": 4,
 "nbformat_minor": 2
}
