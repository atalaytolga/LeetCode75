{
 "cells": [
  {
   "cell_type": "code",
   "execution_count": null,
   "metadata": {},
   "outputs": [],
   "source": [
    "class Solution:\n",
    "    def reverseWords(self, s: str) -> str:\n",
    "        res = ''\n",
    "        curWord = ''\n",
    "\n",
    "        for n in s:\n",
    "            if n == ' ' and curWord:\n",
    "                res = curWord + ' ' + res\n",
    "                curWord = ''\n",
    "            elif n!= ' ':\n",
    "                curWord += n\n",
    "        if curWord:\n",
    "            res = curWord + ' ' + res\n",
    "        return res[:-1]"
   ]
  }
 ],
 "metadata": {
  "language_info": {
   "name": "python"
  }
 },
 "nbformat": 4,
 "nbformat_minor": 2
}
