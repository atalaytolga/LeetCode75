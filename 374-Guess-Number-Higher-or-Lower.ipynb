{
 "cells": [
  {
   "cell_type": "code",
   "execution_count": null,
   "metadata": {},
   "outputs": [],
   "source": [
    "class Solution:\n",
    "    def guessNumber(self, n: int) -> int:\n",
    "        l, r = 1, n\n",
    "        while l <= r:\n",
    "            pick = (l + r) // 2\n",
    "            if guess(pick) == 0:\n",
    "                return pick\n",
    "            elif guess(pick) == -1:\n",
    "                r = pick\n",
    "            else:\n",
    "                l = pick + 1"
   ]
  }
 ],
 "metadata": {
  "language_info": {
   "name": "python"
  }
 },
 "nbformat": 4,
 "nbformat_minor": 2
}
